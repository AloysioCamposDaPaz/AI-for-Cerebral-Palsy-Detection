{
  "nbformat": 4,
  "nbformat_minor": 0,
  "metadata": {
    "colab": {
      "provenance": [],
      "gpuClass": "premium"
    },
    "kernelspec": {
      "name": "python3",
      "display_name": "Python 3"
    },
    "language_info": {
      "name": "python"
    },
    "gpuClass": "premium"
  },
  "cells": [
    {
      "cell_type": "code",
      "execution_count": null,
      "metadata": {
        "id": "6N4wGMW9xGu-"
      },
      "outputs": [],
      "source": [
        "!pip install tensorflow==2.11.0 opencv-python mediapipe sklearn matplotlib\n",
        "import cv2\n",
        "import mediapipe as mp\n",
        "import numpy as np\n",
        "import os\n",
        "import tensorflow as tf\n",
        "from google.colab.patches import cv2_imshow"
      ]
    },
    {
      "cell_type": "markdown",
      "source": [
        "### Preprocess data, add labels"
      ],
      "metadata": {
        "id": "oC9tKJz3VK3I"
      }
    },
    {
      "cell_type": "code",
      "source": [
        "actions = np.array(['fidgety','cramped_synchronized'])"
      ],
      "metadata": {
        "id": "6BL4smZDywVM"
      },
      "execution_count": null,
      "outputs": []
    },
    {
      "cell_type": "code",
      "source": [
        "from sklearn.model_selection import train_test_split\n",
        "from tensorflow.keras.utils import to_categorical"
      ],
      "metadata": {
        "id": "7U5cK2B1xLQy"
      },
      "execution_count": null,
      "outputs": []
    },
    {
      "cell_type": "code",
      "source": [
        "#create a dictionary\n",
        "label_map = {label:num for num, label in enumerate(actions)}"
      ],
      "metadata": {
        "id": "dpgeKmJNy9IR"
      },
      "execution_count": null,
      "outputs": []
    },
    {
      "cell_type": "code",
      "source": [
        "DATA_PATH = '/content/drive/MyDrive/Keypoints data/MP_data'\n",
        "actions = np.array(['cramped_synchronized','fidgety'])"
      ],
      "metadata": {
        "id": "XhliJQjczJFT"
      },
      "execution_count": null,
      "outputs": []
    },
    {
      "cell_type": "code",
      "source": [
        "sequence_length = 120"
      ],
      "metadata": {
        "id": "EoFIBVII0oCV"
      },
      "execution_count": null,
      "outputs": []
    },
    {
      "cell_type": "code",
      "source": [
        "sequences, labels = [], []\n",
        "no_sequences = 30\n",
        "action = 'cramped_synchronized'\n",
        "for sequence in range(no_sequences):\n",
        "  window =[]\n",
        "  for frame_num in range (sequence_length):\n",
        "    res = np.load(os.path.join(DATA_PATH, action, str(sequence), str(frame_num) + '.npy'))\n",
        "    window.append(res)\n",
        "  sequences.append(window)\n",
        "  labels.append(label_map[action])"
      ],
      "metadata": {
        "id": "D0qjUYB90Tgi"
      },
      "execution_count": null,
      "outputs": []
    },
    {
      "cell_type": "code",
      "source": [
        "no_sequences = 30\n",
        "action = 'fidgety'\n",
        "for sequence in range(no_sequences):\n",
        "  window =[]\n",
        "  for frame_num in range (sequence_length):\n",
        "    res = np.load(os.path.join(DATA_PATH, action, str(sequence), str(frame_num) + '.npy'))\n",
        "    window.append(res)\n",
        "  sequences.append(window)\n",
        "  labels.append(label_map[action])"
      ],
      "metadata": {
        "id": "OCpraTWkBp1P"
      },
      "execution_count": null,
      "outputs": []
    },
    {
      "cell_type": "code",
      "source": [
        "#/content/drive/MyDrive/Keypoints data/MP_data/cramped_synchronized\n",
        "#/content/drive/MyDrive/Keypoints data/MP_data/fidgety"
      ],
      "metadata": {
        "id": "LA4Xqrfgy8bs"
      },
      "execution_count": null,
      "outputs": []
    },
    {
      "cell_type": "code",
      "source": [
        "np.array(sequences).shape\n"
      ],
      "metadata": {
        "id": "QBKh51XFzANK"
      },
      "execution_count": null,
      "outputs": []
    },
    {
      "cell_type": "code",
      "source": [
        "X = np.array(sequences)"
      ],
      "metadata": {
        "id": "k7Bcn6kwQFfO"
      },
      "execution_count": null,
      "outputs": []
    },
    {
      "cell_type": "code",
      "source": [
        "X.shape\n"
      ],
      "metadata": {
        "id": "I1plYUbFQLx2"
      },
      "execution_count": null,
      "outputs": []
    },
    {
      "cell_type": "code",
      "source": [
        "y = to_categorical(labels).astype(int)"
      ],
      "metadata": {
        "id": "0iWc-QaOQU-P"
      },
      "execution_count": null,
      "outputs": []
    },
    {
      "cell_type": "code",
      "source": [
        "y"
      ],
      "metadata": {
        "id": "frIaU4_VQvL3"
      },
      "execution_count": null,
      "outputs": []
    },
    {
      "cell_type": "code",
      "source": [
        "np.array(labels).shape"
      ],
      "metadata": {
        "id": "5m4IBkvCR144"
      },
      "execution_count": null,
      "outputs": []
    },
    {
      "cell_type": "code",
      "source": [
        "x_train, x_test, y_train, y_test = train_test_split(X, y, test_size =0.05)"
      ],
      "metadata": {
        "id": "qiZeIg3yT-_Z"
      },
      "execution_count": null,
      "outputs": []
    },
    {
      "cell_type": "code",
      "source": [
        "y_test.shape"
      ],
      "metadata": {
        "id": "y11enODIUlmj"
      },
      "execution_count": null,
      "outputs": []
    },
    {
      "cell_type": "markdown",
      "source": [
        "### Build and train LSTM Neural Network\n",
        "\n"
      ],
      "metadata": {
        "id": "4BTKyOpoVA7_"
      }
    },
    {
      "cell_type": "code",
      "source": [
        "y = to_categorical(labels).astype(int)\n",
        "x_train, x_test, y_train, y_test = train_test_split(X, y, test_size =0.1)"
      ],
      "metadata": {
        "id": "6MaHlzoEAa5e"
      },
      "execution_count": null,
      "outputs": []
    },
    {
      "cell_type": "code",
      "source": [
        "X = np.load('/content/sample_data/X.npy')\n",
        "X.shape"
      ],
      "metadata": {
        "colab": {
          "base_uri": "https://localhost:8080/"
        },
        "id": "5IGB03vG-yDq",
        "outputId": "0f6b83f6-c60f-4804-8d59-2b4c5eb9a8f3"
      },
      "execution_count": null,
      "outputs": [
        {
          "output_type": "execute_result",
          "data": {
            "text/plain": [
              "(106, 120, 132)"
            ]
          },
          "metadata": {},
          "execution_count": 62
        }
      ]
    },
    {
      "cell_type": "code",
      "source": [
        "labels = np.load('/content/sample_data/labels.npy')\n",
        "labels = labels.tolist()\n",
        "labels"
      ],
      "metadata": {
        "id": "1VrUAJAx_QBE"
      },
      "execution_count": null,
      "outputs": []
    },
    {
      "cell_type": "code",
      "source": [
        "x_train, x_test, y_train, y_test = train_test_split(X, y, test_size =0.05)"
      ],
      "metadata": {
        "id": "91qn04T-AgBl"
      },
      "execution_count": null,
      "outputs": []
    },
    {
      "cell_type": "code",
      "source": [
        "from tensorflow.keras.models import Sequential\n",
        "from tensorflow.keras.layers import LSTM, Dense\n",
        "from tensorflow.keras.callbacks import TensorBoard"
      ],
      "metadata": {
        "id": "P2J4pIOnVITR"
      },
      "execution_count": null,
      "outputs": []
    },
    {
      "cell_type": "code",
      "source": [
        "#create log directory and set up tensorflow callback\n",
        "log_dir = os.path.join('Logs')\n",
        "tb_callback = TensorBoard (log_dir = log_dir)"
      ],
      "metadata": {
        "id": "gcnyp6YHXTQf"
      },
      "execution_count": null,
      "outputs": []
    },
    {
      "cell_type": "code",
      "source": [
        "model = Sequential()\n",
        "model.add(LSTM(64,return_sequences=True, activation='relu', input_shape=(120,132)))\n",
        "model.add(LSTM(128,return_sequences=True, activation='relu')) #true because there is another layer next\n",
        "model.add(LSTM(64,return_sequences=False, activation='relu')) # false because this is the last layer\n",
        "model.add(Dense(64, activation='relu'))\n",
        "model.add(Dense(32, activation='relu'))\n",
        "model.add(Dense(actions.shape[0], activation='softmax'))"
      ],
      "metadata": {
        "id": "oqy_ECr7XV6i"
      },
      "execution_count": null,
      "outputs": []
    },
    {
      "cell_type": "code",
      "source": [
        "model.compile(optimizer='Adam', loss = 'categorical_crossentropy', metrics=['categorical_accuracy'])"
      ],
      "metadata": {
        "id": "slLzJ_VCcU_u"
      },
      "execution_count": null,
      "outputs": []
    },
    {
      "cell_type": "code",
      "source": [
        "#train the model\n",
        "model.fit(x_train,y_train, epochs = 120, callbacks=[tb_callback])"
      ],
      "metadata": {
        "id": "w20Os-bQdPKS"
      },
      "execution_count": null,
      "outputs": []
    },
    {
      "cell_type": "code",
      "source": [
        "model.summary()"
      ],
      "metadata": {
        "id": "_mWQGjpKdQGA",
        "colab": {
          "base_uri": "https://localhost:8080/"
        },
        "outputId": "f1aa4ad0-d1d5-491c-8153-3b0f7279cd26"
      },
      "execution_count": null,
      "outputs": [
        {
          "output_type": "stream",
          "name": "stdout",
          "text": [
            "Model: \"sequential_1\"\n",
            "_________________________________________________________________\n",
            " Layer (type)                Output Shape              Param #   \n",
            "=================================================================\n",
            " lstm_3 (LSTM)               (None, 120, 64)           50432     \n",
            "                                                                 \n",
            " lstm_4 (LSTM)               (None, 120, 128)          98816     \n",
            "                                                                 \n",
            " lstm_5 (LSTM)               (None, 64)                49408     \n",
            "                                                                 \n",
            " dense_3 (Dense)             (None, 64)                4160      \n",
            "                                                                 \n",
            " dense_4 (Dense)             (None, 32)                2080      \n",
            "                                                                 \n",
            " dense_5 (Dense)             (None, 2)                 66        \n",
            "                                                                 \n",
            "=================================================================\n",
            "Total params: 204,962\n",
            "Trainable params: 204,962\n",
            "Non-trainable params: 0\n",
            "_________________________________________________________________\n"
          ]
        }
      ]
    },
    {
      "cell_type": "code",
      "source": [
        "res = model.predict(x_test)"
      ],
      "metadata": {
        "id": "QZ_UMli6gCkO",
        "colab": {
          "base_uri": "https://localhost:8080/"
        },
        "outputId": "b7a9b45a-9c0a-4c35-c0e7-db71ec30ca1b"
      },
      "execution_count": null,
      "outputs": [
        {
          "output_type": "stream",
          "name": "stdout",
          "text": [
            "1/1 [==============================] - 0s 484ms/step\n"
          ]
        }
      ]
    },
    {
      "cell_type": "code",
      "source": [
        "actions[np.argmax(res[4])]"
      ],
      "metadata": {
        "colab": {
          "base_uri": "https://localhost:8080/",
          "height": 35
        },
        "id": "EOo0XdlwByJR",
        "outputId": "bd606ef7-683a-4280-e9ed-509188e2eace"
      },
      "execution_count": null,
      "outputs": [
        {
          "output_type": "execute_result",
          "data": {
            "text/plain": [
              "'cramped_synchronized'"
            ],
            "application/vnd.google.colaboratory.intrinsic+json": {
              "type": "string"
            }
          },
          "metadata": {},
          "execution_count": 72
        }
      ]
    },
    {
      "cell_type": "code",
      "source": [
        "actions[np.argmax(y_test[5])]\n"
      ],
      "metadata": {
        "colab": {
          "base_uri": "https://localhost:8080/",
          "height": 35
        },
        "id": "GDQAod5ACBxV",
        "outputId": "4a543a75-277a-444a-a133-68e187a18400"
      },
      "execution_count": null,
      "outputs": [
        {
          "output_type": "execute_result",
          "data": {
            "text/plain": [
              "'fidgety'"
            ],
            "application/vnd.google.colaboratory.intrinsic+json": {
              "type": "string"
            }
          },
          "metadata": {},
          "execution_count": 73
        }
      ]
    },
    {
      "cell_type": "code",
      "source": [
        "model.predict(x_test)"
      ],
      "metadata": {
        "colab": {
          "base_uri": "https://localhost:8080/"
        },
        "id": "oe7jOWDdCUwT",
        "outputId": "0ae73ddd-6533-4a4b-dcf4-e41688bb328b"
      },
      "execution_count": null,
      "outputs": [
        {
          "output_type": "stream",
          "name": "stdout",
          "text": [
            "1/1 [==============================] - 0s 57ms/step\n"
          ]
        },
        {
          "output_type": "execute_result",
          "data": {
            "text/plain": [
              "array([[1., 0.],\n",
              "       [0., 1.],\n",
              "       [1., 0.],\n",
              "       [0., 1.],\n",
              "       [1., 0.],\n",
              "       [1., 0.]], dtype=float32)"
            ]
          },
          "metadata": {},
          "execution_count": 74
        }
      ]
    },
    {
      "cell_type": "code",
      "source": [
        "y_test"
      ],
      "metadata": {
        "colab": {
          "base_uri": "https://localhost:8080/"
        },
        "id": "HbDVI0vNCfvD",
        "outputId": "e6a90959-2ac0-48fd-efdb-a6168d45e76c"
      },
      "execution_count": null,
      "outputs": [
        {
          "output_type": "execute_result",
          "data": {
            "text/plain": [
              "array([[0, 1],\n",
              "       [0, 1],\n",
              "       [0, 1],\n",
              "       [0, 1],\n",
              "       [1, 0],\n",
              "       [0, 1]])"
            ]
          },
          "metadata": {},
          "execution_count": 75
        }
      ]
    }
  ]
}